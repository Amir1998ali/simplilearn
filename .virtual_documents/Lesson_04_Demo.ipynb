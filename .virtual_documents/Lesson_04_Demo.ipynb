


x = 34 ; y = 67.89 ; z = True
print('x = ', x, '\ty = ', y, '\tz = ', z)


print('Type of \nx = ', type(x), '\ty = ', type(y), '\tz = ', type(z))


var = 'abc'
print('var = ', var)
print('type of var ', type(var))





x = 45.77
int(x)


str(x)


bool(x)


y = '45.88'


float(y)


int(float(y))





x = 34
y = x
print('x = ', x, ';  id of x = ', id(x))
print('y = ', y, ';  id of y = ', id(y))


x = 65
print('x = ', x, ';  id of x = ', id(x))
print('y = ', y, ';  id of y = ', id(y))


y = 78
print('x = ', x, ';  id of x = ', id(x))
print('y = ', y, ';  id of y = ', id(y))





x = 50
y = 4


print('Sum of x & y                   : ', x + y)
print('Difference between x & y       : ', x - y)
print('Product of x & y               : ', x * y)
print('Division of x by y             : ', x / y)


print('Remainder of x divided by y    : ', x % y)
print('Floor Division x divided by y  : ', x // y)
print('Exponential value for x raised to power y : ', x ** y)





a = 10
print('Present value of a = ', a )


a += 5
print('Updated value of a = ', a )


a = 10
print('Present value of a = ', a )
print('Present id of a = ', id(a))


a += 15
print('Updated value of a = ', a )
print('Updated id of a = ', id(a))





a = 20
b = 20
print('a = ', a, '  b = ', b)
print('a == b  : ', a == b)


a = 20
b = 30
print('a = ', a, '  b = ', b)
print('a != b  : ', a != b)


a = 40
b = 30
print('a = ', a, '  b = ', b)
print('a <= b  : ', a <= b)


a = 30
b = 30
print('a = ', a, '  b = ', b)
print('a >= b  : ', a >= b)





a = 30
b = 30
print('a = ', a, '  b = ', b)
print('a < b            : ', a < b)
print('a == b           : ', a == b)


print('a < b and a == b : ', a < b and a == b)


a = 30
b = 30
print('a = ', a, '  b = ', b)
print('a < b           : ', a < b)
print('a == b          : ', a == b)


print('a < b or a == b : ', a < b or a == b)


a = 40
print('a = ', a)
print('a < 50      : ' , a < 50 )


print('not a < 50  : ' , not(a < 50))








a = ['a', 'b', 'c']
b = ['a', 'b', 'c']
print('a is b' , a is b)


a = ['a', 'b', 'c']
b =  a
print('a is b' , a is b)


id(a) == id(b)


a = ['a', 'b', 'c']
b = ['a', 'b', 'c']
print('a is not b' , a is not b)





x = 'a'
y = 'Dictionary'
print(x , ' in "', y, '"')
print( x in y)


x = 'a'
y = 'Dictionary'
print(x , ' in "', y, '"')
print( x not in y)


a = [20, 45, 10]
10 in a


a = [20, 45, 10]
10 not in a





message_1 = 'Hi! Welcome to Python Programming!!'
message_2 = "Hi! Welcome to Python Programming!!"
print(message_1)
print(message_2)


message_1 = 'Hi! Welcome to "Python Programming"!!'
message_2 = "Hi! Welcome to 'Python Programming'!!"
print(message_1)
print(message_2)





string = 'She seLLs sEa SHELLS oN tHe SeA sHoRe.'
upper_case = string.upper()
print(upper_case)


lower_case = string.lower()
print(lower_case)


sentence = string.capitalize()
print(sentence)


word_upper = string.title()
word_upper
